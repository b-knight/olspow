{
 "cells": [
  {
   "cell_type": "code",
   "execution_count": 1,
   "metadata": {},
   "outputs": [
    {
     "name": "stderr",
     "output_type": "stream",
     "text": [
      "/usr/lib/python3/dist-packages/scipy/__init__.py:146: UserWarning: A NumPy version >=1.17.3 and <1.25.0 is required for this version of SciPy (detected version 1.26.2\n",
      "  warnings.warn(f\"A NumPy version >={np_minversion} and <{np_maxversion}\"\n"
     ]
    }
   ],
   "source": [
    "import os\n",
    "import sys\n",
    "dir_name = os.getcwd()[:-5] + 'examples'\n",
    "sys.path.insert(0, dir_name)\n",
    "from generate_data import gen_clustered_data\n",
    "dir_name = os.getcwd()[:-5] + 'src'\n",
    "sys.path.insert(0, dir_name)\n",
    "import olspow as osp"
   ]
  },
  {
   "cell_type": "code",
   "execution_count": 2,
   "metadata": {},
   "outputs": [],
   "source": [
    "df = gen_clustered_data(n_c=100000,\n",
    "                        mu_nobs_per_c=1, std_nobs_per_c=2,\n",
    "                        mu_of_mu_c_treated=4, std_of_mu_c_treated=0.5,\n",
    "                        mu_of_mu_c_cov_1=100, std_of_mu_c_cov_1=10,\n",
    "                        mu_of_mu_c_cov_2=10, std_of_mu_c_cov_2=1,\n",
    "                        epsilon_mu=100, epsilons_std=20,\n",
    "                        randomization_seed=1)"
   ]
  },
  {
   "cell_type": "code",
   "execution_count": 3,
   "metadata": {},
   "outputs": [
    {
     "data": {
      "text/html": [
       "<div>\n",
       "<style scoped>\n",
       "    .dataframe tbody tr th:only-of-type {\n",
       "        vertical-align: middle;\n",
       "    }\n",
       "\n",
       "    .dataframe tbody tr th {\n",
       "        vertical-align: top;\n",
       "    }\n",
       "\n",
       "    .dataframe thead th {\n",
       "        text-align: right;\n",
       "    }\n",
       "</style>\n",
       "<table border=\"1\" class=\"dataframe\">\n",
       "  <thead>\n",
       "    <tr style=\"text-align: right;\">\n",
       "      <th></th>\n",
       "      <th>ID</th>\n",
       "      <th>CLUSTER_ID</th>\n",
       "      <th>NOBS_IN_CLUSTER</th>\n",
       "      <th>Y</th>\n",
       "      <th>TREATED_CLUSTER</th>\n",
       "      <th>TREATMENT_EFFECT</th>\n",
       "      <th>X1_VALUE</th>\n",
       "      <th>X1_COEF</th>\n",
       "      <th>X2_VALUE</th>\n",
       "      <th>X2_COEF</th>\n",
       "      <th>EPSILON</th>\n",
       "    </tr>\n",
       "  </thead>\n",
       "  <tbody>\n",
       "    <tr>\n",
       "      <th>0</th>\n",
       "      <td>0</td>\n",
       "      <td>0</td>\n",
       "      <td>1</td>\n",
       "      <td>622.780475</td>\n",
       "      <td>1</td>\n",
       "      <td>5.080007</td>\n",
       "      <td>98.622225</td>\n",
       "      <td>4.994344</td>\n",
       "      <td>8.428242</td>\n",
       "      <td>1.649372</td>\n",
       "      <td>111.245825</td>\n",
       "    </tr>\n",
       "    <tr>\n",
       "      <th>1</th>\n",
       "      <td>1</td>\n",
       "      <td>1</td>\n",
       "      <td>3</td>\n",
       "      <td>739.619678</td>\n",
       "      <td>1</td>\n",
       "      <td>4.336182</td>\n",
       "      <td>113.221716</td>\n",
       "      <td>5.040928</td>\n",
       "      <td>10.558454</td>\n",
       "      <td>2.176741</td>\n",
       "      <td>141.557954</td>\n",
       "    </tr>\n",
       "    <tr>\n",
       "      <th>2</th>\n",
       "      <td>2</td>\n",
       "      <td>1</td>\n",
       "      <td>3</td>\n",
       "      <td>707.194366</td>\n",
       "      <td>1</td>\n",
       "      <td>3.947268</td>\n",
       "      <td>118.124514</td>\n",
       "      <td>5.039657</td>\n",
       "      <td>5.114475</td>\n",
       "      <td>2.563951</td>\n",
       "      <td>94.826785</td>\n",
       "    </tr>\n",
       "    <tr>\n",
       "      <th>3</th>\n",
       "      <td>3</td>\n",
       "      <td>1</td>\n",
       "      <td>3</td>\n",
       "      <td>583.310047</td>\n",
       "      <td>1</td>\n",
       "      <td>4.078917</td>\n",
       "      <td>95.033426</td>\n",
       "      <td>5.042160</td>\n",
       "      <td>10.509967</td>\n",
       "      <td>2.482262</td>\n",
       "      <td>73.968942</td>\n",
       "    </tr>\n",
       "    <tr>\n",
       "      <th>4</th>\n",
       "      <td>4</td>\n",
       "      <td>2</td>\n",
       "      <td>1</td>\n",
       "      <td>744.876348</td>\n",
       "      <td>0</td>\n",
       "      <td>0.000000</td>\n",
       "      <td>105.934036</td>\n",
       "      <td>5.784349</td>\n",
       "      <td>11.316836</td>\n",
       "      <td>2.027084</td>\n",
       "      <td>109.176721</td>\n",
       "    </tr>\n",
       "  </tbody>\n",
       "</table>\n",
       "</div>"
      ],
      "text/plain": [
       "   ID  CLUSTER_ID  NOBS_IN_CLUSTER           Y  TREATED_CLUSTER  \\\n",
       "0   0           0                1  622.780475                1   \n",
       "1   1           1                3  739.619678                1   \n",
       "2   2           1                3  707.194366                1   \n",
       "3   3           1                3  583.310047                1   \n",
       "4   4           2                1  744.876348                0   \n",
       "\n",
       "   TREATMENT_EFFECT    X1_VALUE   X1_COEF   X2_VALUE   X2_COEF     EPSILON  \n",
       "0          5.080007   98.622225  4.994344   8.428242  1.649372  111.245825  \n",
       "1          4.336182  113.221716  5.040928  10.558454  2.176741  141.557954  \n",
       "2          3.947268  118.124514  5.039657   5.114475  2.563951   94.826785  \n",
       "3          4.078917   95.033426  5.042160  10.509967  2.482262   73.968942  \n",
       "4          0.000000  105.934036  5.784349  11.316836  2.027084  109.176721  "
      ]
     },
     "execution_count": 3,
     "metadata": {},
     "output_type": "execute_result"
    }
   ],
   "source": [
    "df.head()"
   ]
  },
  {
   "cell_type": "code",
   "execution_count": 15,
   "metadata": {},
   "outputs": [],
   "source": [
    "result_1, diagnostics_1 = osp.solve_power(is_ratio=False,\n",
    "                           data=df,\n",
    "                           endog='Y',\n",
    "                           exog=[],\n",
    "                           cluster='CLUSTER_ID',\n",
    "                           ratio=0.5,\n",
    "                           alpha=0.05,\n",
    "                           mde=4,\n",
    "                           power=0.9,\n",
    "                           alternative=\"two-sided\",\n",
    "                           verbose=False)\n",
    "result_2, diagnostics_2 = osp.solve_power(is_ratio=False,\n",
    "                           data=df,\n",
    "                           endog='Y',\n",
    "                           exog=['X1_VALUE', 'X2_VALUE'],\n",
    "                           cluster='CLUSTER_ID',\n",
    "                           ratio=0.5,\n",
    "                           alpha=0.05,\n",
    "                           mde=4,\n",
    "                           power=0.9,\n",
    "                           alternative=\"two-sided\",\n",
    "                           verbose=False)"
   ]
  },
  {
   "cell_type": "code",
   "execution_count": 18,
   "metadata": {},
   "outputs": [
    {
     "name": "stdout",
     "output_type": "stream",
     "text": [
      "Sample size required under specification 1 (sample stdev = 243.92281318232637) : 28214\n",
      "Sample size required under specification 2 (sample stdev = 219.37727347928057) : 22821\n"
     ]
    }
   ],
   "source": [
    "print(f\"Sample size required under specification 1 (sample stdev = {diagnostics_1['Sample_Stdev']}) : {result_1}\")\n",
    "print(f\"Sample size required under specification 2 (sample stdev = {diagnostics_2['Sample_Stdev']}) : {result_2}\")"
   ]
  }
 ],
 "metadata": {
  "kernelspec": {
   "display_name": "Python 3 (ipykernel)",
   "language": "python",
   "name": "python3"
  },
  "language_info": {
   "codemirror_mode": {
    "name": "ipython",
    "version": 3
   },
   "file_extension": ".py",
   "mimetype": "text/x-python",
   "name": "python",
   "nbconvert_exporter": "python",
   "pygments_lexer": "ipython3",
   "version": "3.10.12"
  }
 },
 "nbformat": 4,
 "nbformat_minor": 2
}
