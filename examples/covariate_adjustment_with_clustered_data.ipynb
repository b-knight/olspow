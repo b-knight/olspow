{
 "cells": [
  {
   "cell_type": "markdown",
   "metadata": {},
   "source": [
    "This notebook walks the user through the process of creating a sample dataset of clustered data that features a response variable - Y, a dichotomous treatment variable - T, random noise in the form of epsilon, and 2 covariates that we will adjust for (X1 and X2) in the context of estimating: $$ Y \\sim \\beta_0 + \\beta_1 T + \\beta_2 X1 + \\beta_3 X2 + \\epsilon$$"
   ]
  },
  {
   "cell_type": "code",
   "execution_count": 7,
   "metadata": {},
   "outputs": [],
   "source": [
    "import olspow as osp\n",
    "from generate_data import gen_clustered_data"
   ]
  },
  {
   "cell_type": "code",
   "execution_count": 2,
   "metadata": {},
   "outputs": [],
   "source": [
    "df = gen_clustered_data(n_c=100000,\n",
    "                        mu_nobs_per_c=1, std_nobs_per_c=2,\n",
    "                        mu_of_mu_c_treated=4, std_of_mu_c_treated=0.5,\n",
    "                        mu_of_mu_c_cov_1=100, std_of_mu_c_cov_1=10,\n",
    "                        mu_of_mu_c_cov_2=10, std_of_mu_c_cov_2=1,\n",
    "                        randomization_seed=1)"
   ]
  },
  {
   "cell_type": "markdown",
   "metadata": {},
   "source": [
    "In the data generating process called above, the arguments *n_c*, *mu_nobs_per_c*, and *std_nobs_per_c* will produce 100,000 clusters of data with a mean number of 1 observation / row per cluster and a standard deviation of 2 observations per cluster. The arguments *mu_of_mu_c_treated* and *std_of_mu_c_treated* mean that our clusters will experience heterogeneous treatment effects where mean treatment effect is a 4 unit increase in response variable, *Y*, and that the standard deviation of this treatment effect is 0.5. The mean of our cluster means for our first covariate - X1 - will be 100, while the standard deviation of the cluster means is 10 (i.e. the *mu_of_mu_c_cov_1* and *std_of_mu_c_cov_1* arguments). Similiarly, the mean and standard deviation of the cluster means for the second covariate - X2 - will be 10 and 1 respectively. We can see our resulting data below. "
   ]
  },
  {
   "cell_type": "code",
   "execution_count": 3,
   "metadata": {},
   "outputs": [
    {
     "data": {
      "text/html": [
       "<div>\n",
       "<style scoped>\n",
       "    .dataframe tbody tr th:only-of-type {\n",
       "        vertical-align: middle;\n",
       "    }\n",
       "\n",
       "    .dataframe tbody tr th {\n",
       "        vertical-align: top;\n",
       "    }\n",
       "\n",
       "    .dataframe thead th {\n",
       "        text-align: right;\n",
       "    }\n",
       "</style>\n",
       "<table border=\"1\" class=\"dataframe\">\n",
       "  <thead>\n",
       "    <tr style=\"text-align: right;\">\n",
       "      <th></th>\n",
       "      <th>ID</th>\n",
       "      <th>CLUSTER_ID</th>\n",
       "      <th>NOBS_IN_CLUSTER</th>\n",
       "      <th>Y</th>\n",
       "      <th>TREATED_CLUSTER</th>\n",
       "      <th>TREATMENT_EFFECT</th>\n",
       "      <th>X1_VALUE</th>\n",
       "      <th>X1_COEF</th>\n",
       "      <th>X2_VALUE</th>\n",
       "      <th>X2_COEF</th>\n",
       "      <th>EPSILON</th>\n",
       "    </tr>\n",
       "  </thead>\n",
       "  <tbody>\n",
       "    <tr>\n",
       "      <th>0</th>\n",
       "      <td>0</td>\n",
       "      <td>0</td>\n",
       "      <td>1</td>\n",
       "      <td>514.346106</td>\n",
       "      <td>1</td>\n",
       "      <td>5.080007</td>\n",
       "      <td>98.622225</td>\n",
       "      <td>4.994344</td>\n",
       "      <td>8.428242</td>\n",
       "      <td>1.649372</td>\n",
       "      <td>2.811456</td>\n",
       "    </tr>\n",
       "    <tr>\n",
       "      <th>1</th>\n",
       "      <td>1</td>\n",
       "      <td>1</td>\n",
       "      <td>3</td>\n",
       "      <td>608.451212</td>\n",
       "      <td>1</td>\n",
       "      <td>4.336182</td>\n",
       "      <td>113.221716</td>\n",
       "      <td>5.040928</td>\n",
       "      <td>10.558454</td>\n",
       "      <td>2.176741</td>\n",
       "      <td>10.389488</td>\n",
       "    </tr>\n",
       "    <tr>\n",
       "      <th>2</th>\n",
       "      <td>2</td>\n",
       "      <td>1</td>\n",
       "      <td>3</td>\n",
       "      <td>611.074277</td>\n",
       "      <td>1</td>\n",
       "      <td>3.947268</td>\n",
       "      <td>118.124514</td>\n",
       "      <td>5.039657</td>\n",
       "      <td>5.114475</td>\n",
       "      <td>2.563951</td>\n",
       "      <td>-1.293304</td>\n",
       "    </tr>\n",
       "    <tr>\n",
       "      <th>3</th>\n",
       "      <td>3</td>\n",
       "      <td>1</td>\n",
       "      <td>3</td>\n",
       "      <td>502.833341</td>\n",
       "      <td>1</td>\n",
       "      <td>4.078917</td>\n",
       "      <td>95.033426</td>\n",
       "      <td>5.042160</td>\n",
       "      <td>10.509967</td>\n",
       "      <td>2.482262</td>\n",
       "      <td>-6.507764</td>\n",
       "    </tr>\n",
       "    <tr>\n",
       "      <th>4</th>\n",
       "      <td>4</td>\n",
       "      <td>2</td>\n",
       "      <td>1</td>\n",
       "      <td>637.993807</td>\n",
       "      <td>0</td>\n",
       "      <td>0.000000</td>\n",
       "      <td>105.934036</td>\n",
       "      <td>5.784349</td>\n",
       "      <td>11.316836</td>\n",
       "      <td>2.027084</td>\n",
       "      <td>2.294180</td>\n",
       "    </tr>\n",
       "  </tbody>\n",
       "</table>\n",
       "</div>"
      ],
      "text/plain": [
       "   ID  CLUSTER_ID  NOBS_IN_CLUSTER           Y  TREATED_CLUSTER  \\\n",
       "0   0           0                1  514.346106                1   \n",
       "1   1           1                3  608.451212                1   \n",
       "2   2           1                3  611.074277                1   \n",
       "3   3           1                3  502.833341                1   \n",
       "4   4           2                1  637.993807                0   \n",
       "\n",
       "   TREATMENT_EFFECT    X1_VALUE   X1_COEF   X2_VALUE   X2_COEF    EPSILON  \n",
       "0          5.080007   98.622225  4.994344   8.428242  1.649372   2.811456  \n",
       "1          4.336182  113.221716  5.040928  10.558454  2.176741  10.389488  \n",
       "2          3.947268  118.124514  5.039657   5.114475  2.563951  -1.293304  \n",
       "3          4.078917   95.033426  5.042160  10.509967  2.482262  -6.507764  \n",
       "4          0.000000  105.934036  5.784349  11.316836  2.027084   2.294180  "
      ]
     },
     "execution_count": 3,
     "metadata": {},
     "output_type": "execute_result"
    }
   ],
   "source": [
    "df.head()"
   ]
  },
  {
   "cell_type": "markdown",
   "metadata": {},
   "source": [
    "Now we will call *olspow*'s primary method : *solve_power()*. The first argument - *is_ratio* - informs *olspow* that we are taking a ratio of sums (as opposed to a ratio between a sum and a count). We pass are simulated data to the *data* argument, and use the *endog*, *exog*, and *cluster* arguments to specify the response variable, covariates that we are adjusting for, the and the cluster key respectively. NOTE : *olspow* assumes that the cluster key and unit of experimental assignment are identical. Using the *ratio* argument, we specify that our test design will use balanced assignment across arms. *alpha* denotes our target false positive rate of 5%. <br>\n",
    "\n",
    "*mde* / *power* / *n* are our key arguments of interest. We are interested in estimating the level of statistical power given a sample size of 20,000 and a minimum detectable effect of 4 units. We have the option of specifying whether we want to perform a one-tailed or two-tailed test by use of the the *alternative* argument. As a basis for comparsion, note that [statsmodels](https://www.statsmodels.org/dev/generated/statsmodels.regression.linear_model.OLSResults.pvalues.html) uses two-tailed t-statistics for reporting its p-values."
   ]
  },
  {
   "cell_type": "code",
   "execution_count": 4,
   "metadata": {},
   "outputs": [
    {
     "name": "stdout",
     "output_type": "stream",
     "text": [
      "No covariates were specified. Power analysis will be performed using only the intercept term.\n",
      "NOTE: With no covariates, estimation will be akin to a t-test using pooled variance (i.e. a two-sample t-test). \n",
      "Are you sure this is the desired model specification?\n",
      "Power analysis where the response variable is a non-ratio metric is as follows:\n",
      "Statistical power was estimated as 0.785 using a minimum detectable effect (MDE) of 4. \n",
      "Estimate was based on 235,366 observations across 100,000 clusters of historical data. \n",
      "The model specification used 0 covariates, assumes 1 coefficient estimates, and 100,001 degrees of freedom (alpha=0.025).\n"
     ]
    },
    {
     "data": {
      "text/plain": [
       "0.784967043356559"
      ]
     },
     "execution_count": 4,
     "metadata": {},
     "output_type": "execute_result"
    }
   ],
   "source": [
    "result_1 = osp.solve_power(is_ratio=False,\n",
    "                           data=df,\n",
    "                           endog='Y',\n",
    "                           exog=[],\n",
    "                           cluster='CLUSTER_ID',\n",
    "                           ratio=0.5,\n",
    "                           alpha=0.05,\n",
    "                           mde=4,\n",
    "                           #  power=0.8,\n",
    "                           n=20000,\n",
    "                           alternative=\"two-sided\",\n",
    "                           verbose=False)\n",
    "result_1"
   ]
  },
  {
   "cell_type": "markdown",
   "metadata": {},
   "source": [
    "In our first model specification, we leave the *exog* argument empty. This will estimate statistical power using the same assumptions as a t-test using the pooled variance assumption. *olspow* is estimating that our current specification will have a 78% probabiliy of successfully rejecting the null hypothesis (assumming that it is in fact, false). Now, let's see what adjusting for covariates X1 and X2 does."
   ]
  },
  {
   "cell_type": "code",
   "execution_count": 5,
   "metadata": {},
   "outputs": [
    {
     "name": "stdout",
     "output_type": "stream",
     "text": [
      "Power analysis where the response variable is a non-ratio metric is as follows:\n",
      "Statistical power was estimated as 0.8648 using a minimum detectable effect (MDE) of 4. \n",
      "Estimate was based on 235,366 observations across 100,000 clusters of historical data. \n",
      "The model specification used 2 covariates, assumes 3 coefficient estimates, and 99,999 degrees of freedom (alpha=0.025).\n"
     ]
    },
    {
     "data": {
      "text/plain": [
       "0.8647728251598094"
      ]
     },
     "execution_count": 5,
     "metadata": {},
     "output_type": "execute_result"
    }
   ],
   "source": [
    "result_2 = osp.solve_power(is_ratio=False,\n",
    "                           data=df,\n",
    "                           endog='Y',\n",
    "                           exog=['X1_VALUE', 'X2_VALUE'],\n",
    "                           cluster='CLUSTER_ID',\n",
    "                           ratio=0.5,\n",
    "                           alpha=0.05,\n",
    "                           mde=4,\n",
    "                           #  power=0.8,\n",
    "                           n=20000,\n",
    "                           alternative=\"two-sided\",\n",
    "                           verbose=False)\n",
    "result_2"
   ]
  },
  {
   "cell_type": "markdown",
   "metadata": {},
   "source": [
    "Using the same sample data as before, we've now added covariates X1 and X2 to the *exog* argument, adding them to the underlying regressions used to estimate the sample variance. If *verbose* argument is set to 'True,' users can see the outputs of the underlying regressions, and the fact that the R^2 of the expanded models exceed 0.9. This convariate adjustment has achieved significant variance reduction. Consequentially, the estimated statistical power has increased from to 78% over 86%."
   ]
  }
 ],
 "metadata": {
  "kernelspec": {
   "display_name": "Python 3 (ipykernel)",
   "language": "python",
   "name": "python3"
  },
  "language_info": {
   "codemirror_mode": {
    "name": "ipython",
    "version": 3
   },
   "file_extension": ".py",
   "mimetype": "text/x-python",
   "name": "python",
   "nbconvert_exporter": "python",
   "pygments_lexer": "ipython3",
   "version": "3.10.12"
  }
 },
 "nbformat": 4,
 "nbformat_minor": 2
}
